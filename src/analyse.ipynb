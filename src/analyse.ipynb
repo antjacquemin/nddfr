{
 "metadata": {
  "language_info": {
   "codemirror_mode": {
    "name": "ipython",
    "version": 3
   },
   "file_extension": ".py",
   "mimetype": "text/x-python",
   "name": "python",
   "nbconvert_exporter": "python",
   "pygments_lexer": "ipython3",
   "version": "3.8.3"
  },
  "orig_nbformat": 2,
  "kernelspec": {
   "name": "python383jvsc74a57bd0fd717aed4d297ff577773099012b06c7b2456110d9c1e279782c91d951b3636b",
   "display_name": "Python 3.8.3 64-bit ('base': conda)"
  }
 },
 "nbformat": 4,
 "nbformat_minor": 2,
 "cells": [
  {
   "source": [
    "# Analyse du jeu de données des noms de domaines FR"
   ],
   "cell_type": "markdown",
   "metadata": {}
  },
  {
   "source": [
    "## Importation des bibliothèques"
   ],
   "cell_type": "markdown",
   "metadata": {}
  },
  {
   "cell_type": "code",
   "execution_count": 2,
   "metadata": {},
   "outputs": [],
   "source": [
    "import pandas as pd"
   ]
  },
  {
   "source": [
    "## Lecture du fichier"
   ],
   "cell_type": "markdown",
   "metadata": {}
  },
  {
   "cell_type": "code",
   "execution_count": 3,
   "metadata": {},
   "outputs": [
    {
     "output_type": "stream",
     "name": "stdout",
     "text": [
      "<_io.TextIOWrapper name='../data/202102_OPENDATA_A-NomsDeDomaineEnPointFr.csv' mode='r' encoding='cp1252'>\n"
     ]
    }
   ],
   "source": [
    "# Pour vérifier l'encodage\n",
    "with open('../data/202102_OPENDATA_A-NomsDeDomaineEnPointFr.csv') as f:\n",
    "    print(f)"
   ]
  },
  {
   "cell_type": "code",
   "execution_count": 4,
   "metadata": {},
   "outputs": [],
   "source": [
    "data = pd.read_csv(\"../data/202102_OPENDATA_A-NomsDeDomaineEnPointFr.csv\", encoding=\"cp1252\", sep=\";\")"
   ]
  },
  {
   "source": [
    "## Aperçu du fichier\n",
    "Il recense actuellement 6 695 031 noms de domaines avec l'extension .fr et contient 12 variables que l'on pourra étudier :\n",
    "- Nom de domaine : Nom de domaine enregistré \n",
    "- Pays BE : Code (ISO 3166-1 alpha-2) du pays du bureau d'enregistrement\n",
    "- Departement BE : Département du bureau d'enregistrement\n",
    "- Ville BE : Ville du bureau d'enregistrement\n",
    "- Nom BE : Nom du bureau d'enregistrement\n",
    "- Sous domaine : Indicateur de l'éventuelle zone de nommage\n",
    "- Type du titulaire : Indicateur du type de titulaire en tant que personne physique ou morale\n",
    "- Pays titulaire : Code (ISO 3166-1 alpha-2) du titulaire\n",
    "- Department titulaire : Département du titulaire\n",
    "- Domaine IDN : Indicateur de l'enregistrement du nom de domain en caractères IDN (Internationalized Domain Name) ou ASCII sinon\n",
    "- Date de création : Date de création du nom de domaine\n",
    "- Date de retrait du WHOIS : Date de suppression définitive du nom de domaine"
   ],
   "cell_type": "markdown",
   "metadata": {}
  },
  {
   "cell_type": "code",
   "execution_count": 5,
   "metadata": {},
   "outputs": [
    {
     "output_type": "execute_result",
     "data": {
      "text/plain": [
       "(6695031, 12)"
      ]
     },
     "metadata": {},
     "execution_count": 5
    }
   ],
   "source": [
    "data.shape"
   ]
  },
  {
   "cell_type": "code",
   "execution_count": 6,
   "metadata": {},
   "outputs": [
    {
     "output_type": "execute_result",
     "data": {
      "text/plain": [
       "  Nom de domaine Pays BE  Departement BE Ville BE  \\\n",
       "0  aaaaaaaaaa.fr      DE              99  HOMBURG   \n",
       "1   aaaaaaaaa.fr      FR              59  ROUBAIX   \n",
       "2     aaa-aaa.fr      FR              88   GOLBEY   \n",
       "3      aaaaaa.fr      FR              59  ROUBAIX   \n",
       "4  aaaaa-asso.fr      FR              75    PARIS   \n",
       "\n",
       "                         Nom BE Sous domaine Type du titulaire Pays titulaire  \\\n",
       "0                     1API GmbH           fr            PERSON             FR   \n",
       "1                           OVH           fr               ORG             FR   \n",
       "2  SAS Ligne Web Services - LWS           fr               ORG             FR   \n",
       "3                           OVH           fr            PERSON             FR   \n",
       "4                         GANDI           fr               ORG             FR   \n",
       "\n",
       "  Departement titulaire  Domaine IDN Date de création Date de retrait du WHOIS  \n",
       "0                    14            0       12-04-2018                      NaN  \n",
       "1                    69            0       22-05-2019               21-07-2020  \n",
       "2                    94            0       03-05-2013               31-05-2019  \n",
       "3                    31            0       29-10-2013                      NaN  \n",
       "4                    93            0       10-03-2011                      NaN  "
      ],
      "text/html": "<div>\n<style scoped>\n    .dataframe tbody tr th:only-of-type {\n        vertical-align: middle;\n    }\n\n    .dataframe tbody tr th {\n        vertical-align: top;\n    }\n\n    .dataframe thead th {\n        text-align: right;\n    }\n</style>\n<table border=\"1\" class=\"dataframe\">\n  <thead>\n    <tr style=\"text-align: right;\">\n      <th></th>\n      <th>Nom de domaine</th>\n      <th>Pays BE</th>\n      <th>Departement BE</th>\n      <th>Ville BE</th>\n      <th>Nom BE</th>\n      <th>Sous domaine</th>\n      <th>Type du titulaire</th>\n      <th>Pays titulaire</th>\n      <th>Departement titulaire</th>\n      <th>Domaine IDN</th>\n      <th>Date de création</th>\n      <th>Date de retrait du WHOIS</th>\n    </tr>\n  </thead>\n  <tbody>\n    <tr>\n      <th>0</th>\n      <td>aaaaaaaaaa.fr</td>\n      <td>DE</td>\n      <td>99</td>\n      <td>HOMBURG</td>\n      <td>1API GmbH</td>\n      <td>fr</td>\n      <td>PERSON</td>\n      <td>FR</td>\n      <td>14</td>\n      <td>0</td>\n      <td>12-04-2018</td>\n      <td>NaN</td>\n    </tr>\n    <tr>\n      <th>1</th>\n      <td>aaaaaaaaa.fr</td>\n      <td>FR</td>\n      <td>59</td>\n      <td>ROUBAIX</td>\n      <td>OVH</td>\n      <td>fr</td>\n      <td>ORG</td>\n      <td>FR</td>\n      <td>69</td>\n      <td>0</td>\n      <td>22-05-2019</td>\n      <td>21-07-2020</td>\n    </tr>\n    <tr>\n      <th>2</th>\n      <td>aaa-aaa.fr</td>\n      <td>FR</td>\n      <td>88</td>\n      <td>GOLBEY</td>\n      <td>SAS Ligne Web Services - LWS</td>\n      <td>fr</td>\n      <td>ORG</td>\n      <td>FR</td>\n      <td>94</td>\n      <td>0</td>\n      <td>03-05-2013</td>\n      <td>31-05-2019</td>\n    </tr>\n    <tr>\n      <th>3</th>\n      <td>aaaaaa.fr</td>\n      <td>FR</td>\n      <td>59</td>\n      <td>ROUBAIX</td>\n      <td>OVH</td>\n      <td>fr</td>\n      <td>PERSON</td>\n      <td>FR</td>\n      <td>31</td>\n      <td>0</td>\n      <td>29-10-2013</td>\n      <td>NaN</td>\n    </tr>\n    <tr>\n      <th>4</th>\n      <td>aaaaa-asso.fr</td>\n      <td>FR</td>\n      <td>75</td>\n      <td>PARIS</td>\n      <td>GANDI</td>\n      <td>fr</td>\n      <td>ORG</td>\n      <td>FR</td>\n      <td>93</td>\n      <td>0</td>\n      <td>10-03-2011</td>\n      <td>NaN</td>\n    </tr>\n  </tbody>\n</table>\n</div>"
     },
     "metadata": {},
     "execution_count": 6
    }
   ],
   "source": [
    "data.head()"
   ]
  },
  {
   "cell_type": "code",
   "execution_count": 7,
   "metadata": {},
   "outputs": [
    {
     "output_type": "execute_result",
     "data": {
      "text/plain": [
       "Nom de domaine                    0\n",
       "Pays BE                           0\n",
       "Departement BE                    0\n",
       "Ville BE                          0\n",
       "Nom BE                            0\n",
       "Sous domaine                      0\n",
       "Type du titulaire            128100\n",
       "Pays titulaire               128102\n",
       "Departement titulaire        128100\n",
       "Domaine IDN                       0\n",
       "Date de création                  0\n",
       "Date de retrait du WHOIS    3775956\n",
       "dtype: int64"
      ]
     },
     "metadata": {},
     "execution_count": 7
    }
   ],
   "source": [
    "data.isna().sum()"
   ]
  },
  {
   "cell_type": "code",
   "execution_count": 8,
   "metadata": {},
   "outputs": [
    {
     "output_type": "execute_result",
     "data": {
      "text/plain": [
       "0"
      ]
     },
     "metadata": {},
     "execution_count": 8
    }
   ],
   "source": [
    "data.duplicated().sum()"
   ]
  },
  {
   "cell_type": "code",
   "execution_count": 9,
   "metadata": {},
   "outputs": [
    {
     "output_type": "execute_result",
     "data": {
      "text/plain": [
       "FR    4509916\n",
       "DE    1419344\n",
       "NL     181069\n",
       "US      98344\n",
       "GB      96977\n",
       "DK      95481\n",
       "CH      70692\n",
       "MC      60289\n",
       "LU      49502\n",
       "CA      32200\n",
       "BE      17660\n",
       "BS      13528\n",
       "AU      11821\n",
       "CZ      11216\n",
       "ES       5631\n",
       "SE       4622\n",
       "IE       4499\n",
       "NO       4329\n",
       "SG       3454\n",
       "IT       1626\n",
       "SC       1024\n",
       "KY        436\n",
       "IL        383\n",
       "RE        294\n",
       "KR        250\n",
       "GP        131\n",
       "MQ         74\n",
       "FI         69\n",
       "CY         66\n",
       "AT         57\n",
       "PM         16\n",
       "JP         11\n",
       "MA         10\n",
       "MU          7\n",
       "LI          2\n",
       "HK          1\n",
       "Name: Pays BE, dtype: int64"
      ]
     },
     "metadata": {},
     "execution_count": 9
    }
   ],
   "source": [
    "data[\"Pays BE\"].value_counts()"
   ]
  },
  {
   "cell_type": "code",
   "execution_count": 10,
   "metadata": {},
   "outputs": [
    {
     "output_type": "execute_result",
     "data": {
      "text/plain": [
       "OVH                               2519045\n",
       "1&1 IONOS SE                       924051\n",
       "GANDI                              847253\n",
       "SCALEWAY                           208775\n",
       "SAS Ligne Web Services - LWS       177681\n",
       "                                   ...   \n",
       "WYITH LIMITED                           1\n",
       "CODINA SARL                             1\n",
       "KDDI FRANCE                             1\n",
       "Cyberlink Internet Services AG          1\n",
       "MWM COMMUNICATION                       1\n",
       "Name: Nom BE, Length: 606, dtype: int64"
      ]
     },
     "metadata": {},
     "execution_count": 10
    }
   ],
   "source": [
    "data[\"Nom BE\"].value_counts()"
   ]
  },
  {
   "cell_type": "code",
   "execution_count": 11,
   "metadata": {},
   "outputs": [
    {
     "output_type": "execute_result",
     "data": {
      "text/plain": [
       "fr           6679257\n",
       "asso.fr         5674\n",
       "com.fr          4986\n",
       "tm.fr           3238\n",
       "gouv.fr         1058\n",
       "nom.fr           685\n",
       "presse.fr        133\n",
       "Name: Sous domaine, dtype: int64"
      ]
     },
     "metadata": {},
     "execution_count": 11
    }
   ],
   "source": [
    "data[\"Sous domaine\"].value_counts()"
   ]
  },
  {
   "cell_type": "code",
   "execution_count": 12,
   "metadata": {},
   "outputs": [
    {
     "output_type": "execute_result",
     "data": {
      "text/plain": [
       "FR    5961149\n",
       "DE     155644\n",
       "NL      80983\n",
       "BE      73877\n",
       "GB      56750\n",
       "       ...   \n",
       "MH          1\n",
       "KY          1\n",
       "SY          1\n",
       "FM          1\n",
       "DM          1\n",
       "Name: Pays titulaire, Length: 186, dtype: int64"
      ]
     },
     "metadata": {},
     "execution_count": 12
    }
   ],
   "source": [
    "data[\"Pays titulaire\"].value_counts()"
   ]
  }
 ]
}